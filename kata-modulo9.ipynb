{
 "cells": [
  {
   "cell_type": "markdown",
   "metadata": {},
   "source": [
    "## Ejercicio 1"
   ]
  },
  {
   "cell_type": "code",
   "execution_count": null,
   "metadata": {},
   "outputs": [],
   "source": [
    "def combustible(tanque1,tanque2,tanque3):\n",
    "    prom = (tanque1 + tanque2 + tanque3) / 3\n",
    "    return f\"\"\"reporte:\n",
    "    ... Promedio de combustibles: {prom}\n",
    "    ... Tanque1: {tanque1}\n",
    "    ... Tanque2: {tanque2}\n",
    "    ... Tanque3: {tanque3}\"\"\"\n",
    "\n",
    "print(combustible(3,4,5))\n",
    "\n",
    "#Funcion de promedio\n",
    "def promedio(tanques):\n",
    "    total = sum(tanques)\n",
    "    num= len(tanques)\n",
    "    return total/num\n",
    "#promedio(3,4,5)\n",
    "\n",
    "#Funcion actualizada\n",
    "def combustible(tanque1,tanque2,tanque3):\n",
    "    return f\"\"\"reporte:\n",
    "    ... Promedio de combustibles: {promedio([tanque1,tanque2,tanque3])}\n",
    "    ... Tanque1: {tanque1}\n",
    "    ... Tanque2: {tanque2}\n",
    "    ... Tanque3: {tanque3}\"\"\"\n",
    "print(combustible(3,3,3))"
   ]
  },
  {
   "cell_type": "markdown",
   "metadata": {},
   "source": [
    "## Ejercicio 2"
   ]
  },
  {
   "cell_type": "code",
   "execution_count": null,
   "metadata": {},
   "outputs": [],
   "source": [
    "# Función con un informe preciso de la misión. \n",
    "# Considera hora de prelanzamiento, tiempo de vuelo, destino, tanque externo y tanque interno\n",
    "def informe(hora, tiempo,destino,tanque_E,tanque_I):\n",
    "    return f\"\"\"\n",
    "    ... Tiempo hasta el destino: {hora + tiempo} minutos\n",
    "    ... Combustible: {tanque_E + tanque_I}\n",
    "    ... Destino: {destino}\"\"\"\n",
    "\n",
    "print(informe(7,8,\"Marte\",50,30))\n",
    "\n",
    "#Nueva funcion\n",
    "def informe_com(destino,*minutos,**reserva):\n",
    "    return f\"\"\"\n",
    "    ... Tiempo hasta el destino: {sum(minutos)} minutos\n",
    "    ... Combustible: {sum(reserva.values())}\n",
    "    ... Destino: {destino}\"\"\"\n",
    "\n",
    "print(informe_com(\"Marte\",7,8,interno=50,externo=30))\n",
    "\n",
    "#Mostrar nombre del tanque\n",
    "def informe_com(destino,*minutos,**reserva):\n",
    "    informefff = f\"\"\"\n",
    "    ... Tiempo hasta el destino: {sum(minutos)} minutos\n",
    "    ... Combustible: {sum(reserva.values())}\n",
    "    ... Destino: {destino}\"\"\"\n",
    "\n",
    "    for title, nombre in reserva.items():\n",
    "        print(f'    ...{title}: {nombre}')\n",
    "\n",
    "\n",
    "print(informe_com(\"Marte\",7,8,interno=50,externo=30))\n"
   ]
  }
 ],
 "metadata": {
  "interpreter": {
   "hash": "dd2a01a166fd8bffe7a942319c658bb0f8b7616ccbf7c01a098a6aca564f39a4"
  },
  "kernelspec": {
   "display_name": "Python 3.10.2 64-bit",
   "language": "python",
   "name": "python3"
  },
  "language_info": {
   "codemirror_mode": {
    "name": "ipython",
    "version": 3
   },
   "file_extension": ".py",
   "mimetype": "text/x-python",
   "name": "python",
   "nbconvert_exporter": "python",
   "pygments_lexer": "ipython3",
   "version": "3.10.2"
  },
  "orig_nbformat": 4
 },
 "nbformat": 4,
 "nbformat_minor": 2
}
