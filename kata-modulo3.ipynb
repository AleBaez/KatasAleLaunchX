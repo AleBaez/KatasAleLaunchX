{
 "cells": [
  {
   "cell_type": "markdown",
   "metadata": {},
   "source": [
    "## Problema1 \n",
    "Velocidad mayor a 25km/s"
   ]
  },
  {
   "cell_type": "code",
   "execution_count": null,
   "metadata": {},
   "outputs": [],
   "source": [
    "vel=49\n",
    "if vel > 25:\n",
    "    print (\"¡Un asteroide se aproxima a la Tierra! :(\")\n",
    "else:\n",
    "    print (\"No existe peligro aún ¬¬\")"
   ]
  },
  {
   "cell_type": "markdown",
   "metadata": {},
   "source": [
    "## Problema 2\n",
    "Velocidad mayor o igual a 20km/s"
   ]
  },
  {
   "cell_type": "code",
   "execution_count": null,
   "metadata": {},
   "outputs": [],
   "source": [
    "vel=19\n",
    "if vel == 20:\n",
    "    print(\"¡Busca un rayo de luz!\")\n",
    "elif vel > 20:\n",
    "    print(\"¡Bucas un rayo de luz!\")\n",
    "else:\n",
    "    print (\"No hay nada interesante el día de hoy\")"
   ]
  },
  {
   "cell_type": "markdown",
   "metadata": {},
   "source": [
    "## Problema 3"
   ]
  },
  {
   "cell_type": "code",
   "execution_count": 3,
   "metadata": {},
   "outputs": [
    {
     "name": "stdout",
     "output_type": "stream",
     "text": [
      "Busca u nrayo de luz!\n"
     ]
    }
   ],
   "source": [
    "ast = 25\n",
    "vel = 20\n",
    "if ast > 25 and ast <1000 and vel > 25:\n",
    "    print(\"El asteroide golpeará la tierra causando daños!\")\n",
    "elif vel >= 20:\n",
    "    print (\"Busca u nrayo de luz!\")\n",
    "elif ast < 25:\n",
    "    print(\"No hay nada interesante el día de hoy\")\n",
    "else:\n",
    "    print (\"No hay nada interesante el día de hoy\")"
   ]
  }
 ],
 "metadata": {
  "interpreter": {
   "hash": "dd2a01a166fd8bffe7a942319c658bb0f8b7616ccbf7c01a098a6aca564f39a4"
  },
  "kernelspec": {
   "display_name": "Python 3.10.2 64-bit",
   "language": "python",
   "name": "python3"
  },
  "language_info": {
   "codemirror_mode": {
    "name": "ipython",
    "version": 3
   },
   "file_extension": ".py",
   "mimetype": "text/x-python",
   "name": "python",
   "nbconvert_exporter": "python",
   "pygments_lexer": "ipython3",
   "version": "3.10.2"
  },
  "orig_nbformat": 4
 },
 "nbformat": 4,
 "nbformat_minor": 2
}
