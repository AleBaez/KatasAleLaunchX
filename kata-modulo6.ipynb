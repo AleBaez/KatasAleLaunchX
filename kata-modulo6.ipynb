{
 "cells": [
  {
   "cell_type": "markdown",
   "metadata": {},
   "source": [
    "## Ejercicio 1"
   ]
  },
  {
   "cell_type": "code",
   "execution_count": null,
   "metadata": {},
   "outputs": [],
   "source": [
    "#Creamos la lista\n",
    "planets = ['Mercurio', 'Venus', 'Tierra', 'Marte', 'Jupiter', 'Saturno', 'Urano', 'Neptuno']\n",
    "no_de_planetas = len(planets)\n",
    "print('Existen',no_de_planetas,'The planetas')\n",
    "\n",
    "#Agregamos a pluton\n",
    "planets.append('Plutón')\n",
    "no_de_planetas = len(planets)\n",
    "print('\\nEn realidad, existen',no_de_planetas,'planetas')\n",
    "print('El último planeta es',planets[-1])"
   ]
  },
  {
   "cell_type": "markdown",
   "metadata": {},
   "source": [
    "## Ejercicio 2"
   ]
  },
  {
   "cell_type": "code",
   "execution_count": null,
   "metadata": {},
   "outputs": [],
   "source": [
    "#Lista de planetas\n",
    "planets = ['Mercurio', 'Venus', 'Tierra', 'Marte', 'Jupiter', 'Saturno', 'Urano','Neptuno']\n",
    "#Solicitar el nombre del planeta\n",
    "nombre_planeta = input(\"Ingrese el nombre de un planeta\")\n",
    "\n",
    "#Buscar el planeta en la lista\n",
    "encontrar_planeta = planets.index(nombre_planeta)\n",
    "\n",
    "#Planeta más cercano\n",
    "print('\\nLos planetas más cercanos a', nombre_planeta,'son:')\n",
    "planeta_antes = planets[0:encontrar_planeta]\n",
    "print(planeta_antes)\n",
    "\n",
    "#Planeta más lejano\n",
    "print('\\nLos planetas más lejanos a', nombre_planeta,'son:')\n",
    "planeta_despues = planets[encontrar_planeta + 1:]\n",
    "print(planeta_despues)"
   ]
  }
 ],
 "metadata": {
  "interpreter": {
   "hash": "dd2a01a166fd8bffe7a942319c658bb0f8b7616ccbf7c01a098a6aca564f39a4"
  },
  "kernelspec": {
   "display_name": "Python 3.10.2 64-bit",
   "language": "python",
   "name": "python3"
  },
  "language_info": {
   "codemirror_mode": {
    "name": "ipython",
    "version": 3
   },
   "file_extension": ".py",
   "mimetype": "text/x-python",
   "name": "python",
   "nbconvert_exporter": "python",
   "pygments_lexer": "ipython3",
   "version": "3.10.2"
  },
  "orig_nbformat": 4
 },
 "nbformat": 4,
 "nbformat_minor": 2
}
