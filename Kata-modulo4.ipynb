{
 "cells": [
  {
   "cell_type": "markdown",
   "metadata": {},
   "source": [
    "## Ejercicio 1"
   ]
  },
  {
   "cell_type": "code",
   "execution_count": null,
   "metadata": {},
   "outputs": [],
   "source": [
    "text = \"\"\"Interesting facts about the Moon. The Moon is Earth's only satellite. There are several interesting facts about the Moon and how it affects life here on Earth. \n",
    "On average, the Moon moves 4cm away from the Earth every year. This yearly drift is not significant enough to cause immediate effects on Earth. The highest daylight temperature of the Moon is 127 C.\"\"\"\n",
    "\n",
    "#Dividir texto\n",
    "text_dividio = text.split('.')\n",
    "\n",
    "# Palabras clave\n",
    "palabras_pista = [\"average\", \"temperature\", \"distance\"]\n",
    "\n",
    "# Ciclo for para recorrer la cadena\n",
    "for sentence in text_dividio:\n",
    "    for key_word in palabras_pista:\n",
    "        if key_word in sentence:\n",
    "            print(sentence)\n",
    "\n",
    "# Ciclo para cambiar C a Celsius\n",
    "for sentence in text_dividio:\n",
    "    for key_word in palabras_pista:\n",
    "        if key_word in sentence:\n",
    "            print(sentence.replace('C', ' Celsius'))"
   ]
  },
  {
   "cell_type": "markdown",
   "metadata": {},
   "source": [
    "## Ejercicio 2"
   ]
  },
  {
   "cell_type": "code",
   "execution_count": null,
   "metadata": {},
   "outputs": [],
   "source": [
    "# Datos con los que vas a trabajar\n",
    "name = \"Luna\"\n",
    "gravity = 0.00162 # in kms\n",
    "planet = \"Tierra\"\n",
    "\n",
    "#Titulo \n",
    "titulo = 'La gravedad en la %s y la %s' % (name, planet)\n",
    "#print (titulo.title())\n",
    "\n",
    "#Plantilla\n",
    "gravedad = gravity * 1000\n",
    "datos = 'Nombre del planeta: %s\\n Gravedad en la %s: %s \\n' % (planet,name,gravedad)\n",
    "#print (datos)\n",
    "\n",
    "#Union de cadenas\n",
    "union = f'{titulo.title()} \\n {datos} \\n'\n",
    "print(union)\n",
    "\n",
    "\n",
    "#Datos muestra:\n",
    "planet = 'Marte '\n",
    "gravity  = 0.00143\n",
    "name = 'Ganímedes'\n",
    "gravedad = gravity * 1000\n",
    "\n",
    "#Comprobacion\n",
    "print(union)\n",
    "\n",
    "#Nueva union\n",
    "union2 = \"Datos sobre {planet} y {name} \\nNombre del planeta: {planet}\\nGravedad en {name}: {gravedad}\"\n",
    "print(union2.format(name=name,gravedad=gravedad,planet=planet))\n"
   ]
  }
 ],
 "metadata": {
  "interpreter": {
   "hash": "dd2a01a166fd8bffe7a942319c658bb0f8b7616ccbf7c01a098a6aca564f39a4"
  },
  "kernelspec": {
   "display_name": "Python 3.10.2 64-bit",
   "language": "python",
   "name": "python3"
  },
  "language_info": {
   "codemirror_mode": {
    "name": "ipython",
    "version": 3
   },
   "file_extension": ".py",
   "mimetype": "text/x-python",
   "name": "python",
   "nbconvert_exporter": "python",
   "pygments_lexer": "ipython3",
   "version": "3.10.2"
  },
  "orig_nbformat": 4
 },
 "nbformat": 4,
 "nbformat_minor": 2
}
