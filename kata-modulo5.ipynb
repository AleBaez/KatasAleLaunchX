{
 "cells": [
  {
   "cell_type": "markdown",
   "metadata": {},
   "source": [
    "## Ejercicio 1"
   ]
  },
  {
   "cell_type": "code",
   "execution_count": null,
   "metadata": {},
   "outputs": [],
   "source": [
    "Tierra = 149597870\n",
    "Jupiter = 778547200\n",
    "\n",
    "#Calcular la distancia entre planetas\n",
    "distancia = abs (Tierra - Jupiter)\n",
    "print(distancia)\n",
    "conversion = distancia * 0.621\n",
    "print(conversion)"
   ]
  },
  {
   "cell_type": "markdown",
   "metadata": {},
   "source": [
    "## Ejercicio 2"
   ]
  },
  {
   "cell_type": "code",
   "execution_count": null,
   "metadata": {},
   "outputs": [],
   "source": [
    "#Pedir valores\n",
    "p1 = input(\"Ingrese el primer planeta\")\n",
    "p2 = input(\"Ingrese el segundo planeta\")\n",
    "\n",
    "#Convertir variables a int\n",
    "planeta1 = int(p1)\n",
    "\n",
    "planeta2 = int(p2)\n",
    "\n",
    "#Calculo de distancia en valor absoluto\n",
    "distancia = abs (planeta1 - planeta2)\n",
    "print(distancia)\n",
    "conversion = distancia * 0.621\n",
    "print(conversion)"
   ]
  }
 ],
 "metadata": {
  "interpreter": {
   "hash": "dd2a01a166fd8bffe7a942319c658bb0f8b7616ccbf7c01a098a6aca564f39a4"
  },
  "kernelspec": {
   "display_name": "Python 3.10.2 64-bit",
   "language": "python",
   "name": "python3"
  },
  "language_info": {
   "codemirror_mode": {
    "name": "ipython",
    "version": 3
   },
   "file_extension": ".py",
   "mimetype": "text/x-python",
   "name": "python",
   "nbconvert_exporter": "python",
   "pygments_lexer": "ipython3",
   "version": "3.10.2"
  },
  "orig_nbformat": 4
 },
 "nbformat": 4,
 "nbformat_minor": 2
}
